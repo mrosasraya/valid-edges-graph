{
 "cells": [
  {
   "cell_type": "markdown",
   "metadata": {
    "colab": {},
    "colab_type": "code",
    "id": "lhr2E1oUrlaC"
   },
   "source": [
    "# 1. Get training edges"
   ]
  },
  {
   "cell_type": "code",
   "execution_count": null,
   "metadata": {
    "colab": {},
    "colab_type": "code",
    "id": "d69Gcz_4x5kF"
   },
   "outputs": [],
   "source": [
    "import networkx as nx\n",
    "import csv\n",
    "import random"
   ]
  },
  {
   "cell_type": "code",
   "execution_count": null,
   "metadata": {
    "colab": {},
    "colab_type": "code",
    "id": "Bsb2zMMBx5kR"
   },
   "outputs": [],
   "source": [
    "G = nx.DiGraph()\n",
    "fh = open(\"train.txt\", \"r\")\n",
    "L = fh.readlines()"
   ]
  },
  {
   "cell_type": "code",
   "execution_count": null,
   "metadata": {
    "colab": {
     "base_uri": "https://localhost:8080/",
     "height": 34
    },
    "colab_type": "code",
    "id": "bVmNDryfrlaL",
    "outputId": "5563e560-822a-432b-ae45-a0fac13755ba"
   },
   "outputs": [],
   "source": [
    "#Feed edges into the graph except those with empty collection of sinks\n",
    "for line in L:\n",
    "    lst_edges = []\n",
    "    for x in line.split('\\t'):\n",
    "        if x != '':\n",
    "            lst_edges.append(int(x))\n",
    "    if len(lst_edges) > 1:\n",
    "        lst_edges_to_add = [(lst_edges[0],e) for e in lst_edges[1:]]\n",
    "        G.add_edges_from(lst_edges_to_add)\n",
    "len(G.nodes), len(G.edges)"
   ]
  },
  {
   "cell_type": "code",
   "execution_count": null,
   "metadata": {
    "colab": {},
    "colab_type": "code",
    "id": "wKcw9HtOrlaS"
   },
   "outputs": [],
   "source": [
    "# Create arbitrary amount of valid pairs\n",
    "def create_real_edges(num_obs, graph_edges):\n",
    "    true_edges = random.choices(graph_edges, k=num_obs)\n",
    "    true_edges = [[source, sink] for source, sink in true_edges]\n",
    "    return true_edges"
   ]
  },
  {
   "cell_type": "code",
   "execution_count": null,
   "metadata": {
    "colab": {},
    "colab_type": "code",
    "id": "WUU93kZCrlag"
   },
   "outputs": [],
   "source": [
    "# Create arbitrary amount of fake pairs\n",
    "def create_fake_edges(num_obs, graph_nodes, graph):\n",
    "    k=0\n",
    "    false_edges = []\n",
    "    while(k < num_obs):\n",
    "        #chose two random nodes\n",
    "        node1, node2 = random.choices(graph_nodes, k=2)\n",
    "        if not graph.has_edge(node1,node2):\n",
    "            false_edges.append([node1,node2])\n",
    "            k=k+1\n",
    "    return false_edges"
   ]
  },
  {
   "cell_type": "code",
   "execution_count": null,
   "metadata": {
    "colab": {},
    "colab_type": "code",
    "id": "i-GzXczwrlas"
   },
   "outputs": [],
   "source": [
    "#Prepare data for training and test\n",
    "graph_edges = list(G.edges)\n",
    "graph_nodes = list(G.nodes)\n",
    "edges_real = create_real_edges(50000, graph_edges)\n",
    "edges_fake = create_fake_edges(50000, graph_nodes, G)"
   ]
  },
  {
   "cell_type": "code",
   "execution_count": null,
   "metadata": {
    "colab": {},
    "colab_type": "code",
    "id": "upc-rkRLx5lA"
   },
   "outputs": [],
   "source": [
    "def save_list2csv(path, data, header):\n",
    "    with open(path, \"w\", newline=\"\") as f:\n",
    "        writer = csv.writer(f)\n",
    "        writer.writerow(header)\n",
    "        writer.writerows(data)"
   ]
  },
  {
   "cell_type": "code",
   "execution_count": null,
   "metadata": {
    "colab": {},
    "colab_type": "code",
    "id": "Ta7PS0B7x5lF"
   },
   "outputs": [],
   "source": [
    "#Save training edges in files\n",
    "save_list2csv(\"function_real.csv\", edges_real, ['Source', 'Sink'])\n",
    "save_list2csv(\"function_fake.csv\", edges_fake, ['Source', 'Sink'])"
   ]
  },
  {
   "cell_type": "code",
   "execution_count": null,
   "metadata": {
    "colab": {},
    "colab_type": "code",
    "id": "Llm8t4Dgx5lL",
    "outputId": "07cf2dd3-25de-41ae-95ee-9b0defe52ded"
   },
   "outputs": [],
   "source": [
    "len(edges_real[1:])"
   ]
  },
  {
   "cell_type": "markdown",
   "metadata": {
    "colab_type": "text",
    "id": "6xXcbLalx5lS"
   },
   "source": [
    "# 2. Load training edges from files and calculate features"
   ]
  },
  {
   "cell_type": "code",
   "execution_count": null,
   "metadata": {
    "colab": {},
    "colab_type": "code",
    "id": "mKEMmWRJx5lU"
   },
   "outputs": [],
   "source": [
    "#returns a list of lists, all floats no headers\n",
    "def read_csv2list(path):\n",
    "    observations = []\n",
    "    with open(path, newline='') as csv_file:\n",
    "        csv_reader = csv.reader(csv_file, delimiter=',')\n",
    "        header = True\n",
    "        for row in csv_reader:\n",
    "            int_row = []\n",
    "            if header == False:\n",
    "                for element in row:\n",
    "                    int_row.append(float(element))\n",
    "                observations.append(int_row)\n",
    "            header = False\n",
    "            \n",
    "    return observations"
   ]
  },
  {
   "cell_type": "code",
   "execution_count": null,
   "metadata": {
    "colab": {},
    "colab_type": "code",
    "id": "aQq3yg1Jx5lZ",
    "outputId": "e70b8660-cacf-4047-f132-21816a679190"
   },
   "outputs": [],
   "source": [
    "edges_real = read_csv2list('edges_real.csv')\n",
    "edges_fake = read_csv2list('edges_fake.csv')"
   ]
  },
  {
   "cell_type": "code",
   "execution_count": null,
   "metadata": {
    "colab": {},
    "colab_type": "code",
    "id": "Jl9JLn4_x5lf"
   },
   "outputs": [],
   "source": [
    "def get_in_edges(graph, node):\n",
    "    edges = [x for x, y in graph.in_edges(node)]\n",
    "    return edges\n",
    "\n",
    "def get_out_edges(graph, node):\n",
    "    edges = [y for x, y in graph.out_edges(node)]\n",
    "    return edges\n",
    "\n",
    "def get_all_edges(graph, node):\n",
    "    return list(set(get_in_edges(graph, node) + get_out_edges(graph, node)))\n",
    "    "
   ]
  },
  {
   "cell_type": "code",
   "execution_count": null,
   "metadata": {
    "colab": {},
    "colab_type": "code",
    "id": "_b2SygVJJs9Y"
   },
   "outputs": [],
   "source": [
    "def create_features(edges, graph):\n",
    "    features = []\n",
    "    for source, sink in edges:\n",
    "        source =int(source)\n",
    "        sink = int(sink)\n",
    "        #common in-neighbours\n",
    "        so_in_edges = get_in_edges(graph, source)\n",
    "        si_in_edges = get_in_edges(graph, sink)\n",
    "        in_common = [value for value in so_in_edges if value in si_in_edges]\n",
    "        \n",
    "        #common out-neighbours\n",
    "        so_out_edges = get_out_edges(graph, source)\n",
    "        si_out_edges = get_out_edges(graph, sink)\n",
    "        out_common = [value for value in so_out_edges if value in si_out_edges]      \n",
    "        \n",
    "        #in-Jaccard Coefficient\n",
    "        in_union = list(set().union(so_in_edges, si_in_edges))\n",
    "        if len(in_union) == 0:\n",
    "            in_JC = -1\n",
    "        else:\n",
    "            in_JC = len(in_common)/len(in_union)\n",
    "        \n",
    "        #out-Jaccard Coefficient\n",
    "        out_union = list(set().union(so_out_edges, si_out_edges))\n",
    "        if len(out_union) == 0:\n",
    "            out_JC = -1\n",
    "        else:\n",
    "            out_JC = len(out_common)/len(out_union)\n",
    "                                    \n",
    "        #In-Sorensen Index\n",
    "        if len(so_in_edges) + len(si_in_edges) == 0:\n",
    "            in_SI = -1\n",
    "        else:\n",
    "            in_SI = len(in_common)/(len(so_in_edges) + len(si_in_edges))\n",
    "            \n",
    "        #Out-Sorensen Index\n",
    "        if len(so_out_edges) + len(si_out_edges) == 0:\n",
    "            out_SI = -1\n",
    "        else:\n",
    "            out_SI = len(out_common)/(len(so_out_edges) + len(si_out_edges))\n",
    "\n",
    "        #In-Hub Promoted\n",
    "        if min([len(so_in_edges), len(si_in_edges)]) == 0:\n",
    "            in_HP = -1\n",
    "        else:\n",
    "            in_HP = len(in_common)/(min([len(so_in_edges), len(si_in_edges)]))\n",
    "        \n",
    "        #Out-Hub Promoted\n",
    "        if min([len(so_out_edges), len(si_out_edges)]) == 0:\n",
    "            out_HP = -1\n",
    "        else:\n",
    "            out_HP = len(out_common)/(min([len(so_out_edges), len(si_out_edges)]))\n",
    "            \n",
    "        #In-Hub Depressed\n",
    "        if max([len(so_in_edges), len(si_in_edges)]) == 0:\n",
    "            in_HD = -1\n",
    "        else:\n",
    "            in_HD = len(in_common)/(max([len(so_in_edges), len(si_in_edges)]))\n",
    "            \n",
    "        #Out-Hub Depressed\n",
    "        if max([len(so_out_edges), len(si_out_edges)]) == 0:\n",
    "            out_HD = -1\n",
    "        else:\n",
    "            out_HD = len(out_common)/(max([len(so_out_edges), len(si_out_edges)]))\n",
    "   \n",
    "        #In-Resource Allocation \n",
    "        in_RA = sum([0 if (len(get_in_edges(graph, node)) == 0) else (1/len(get_in_edges(graph, node))) \\\n",
    "                     for node in in_common])\n",
    "        #Out-Resource Allocation\n",
    "        out_RA = sum([0 if (len(get_out_edges(graph, node)) == 0) else (1/len(get_out_edges(graph, node))) \\\n",
    "                     for node in out_common])  \n",
    "        \n",
    "        features.append([len(in_common), len(out_common), \n",
    "                         in_JC, out_JC,\n",
    "                         in_SI, out_SI, \n",
    "                         in_HP, out_HP, \n",
    "                         in_HD, out_HD,\n",
    "                         in_RA, out_RA]) \n",
    "\n",
    "    return features"
   ]
  },
  {
   "cell_type": "code",
   "execution_count": null,
   "metadata": {
    "colab": {},
    "colab_type": "code",
    "id": "USX_J1X_x5lo",
    "outputId": "99282fb2-7434-49c2-dac5-e70cc06cd570"
   },
   "outputs": [],
   "source": [
    "# graph to test previous functions\n",
    "G2 = nx.DiGraph()\n",
    "G2.add_edge(0, 1)\n",
    "G2.add_edge(0, 2)\n",
    "G2.add_edge(1, 2)\n",
    "G2.add_edge(1, 3)\n",
    "G2.add_edge(3, 0)\n",
    "G2.add_edge(2, 0)\n",
    "G2.neighbors(1)\n",
    "test_ft = create_features([[0,1],[1,3]], G2)\n",
    "test_ft"
   ]
  },
  {
   "cell_type": "markdown",
   "metadata": {
    "colab_type": "text",
    "id": "4cA0U01Mx5lw"
   },
   "source": [
    "## 2.1 Subsets to calculate features in sections"
   ]
  },
  {
   "cell_type": "code",
   "execution_count": null,
   "metadata": {
    "colab": {},
    "colab_type": "code",
    "id": "fpU-TpBXx5lw"
   },
   "outputs": [],
   "source": [
    "edges_real = read_csv2list('edges_real.csv')\n",
    "edges_fake = read_csv2list('edges_fake.csv')"
   ]
  },
  {
   "cell_type": "code",
   "execution_count": null,
   "metadata": {
    "colab": {},
    "colab_type": "code",
    "id": "G8ftGuJAx5l0"
   },
   "outputs": [],
   "source": [
    "training_edges = edges_real + edges_fake\n",
    "\n",
    "part1 = training_edges[1:34000]\n",
    "part2  = training_edges[34000:50001] + training_edges[50002:67000]\n",
    "part3 = training_edges[67000:10000]\n",
    "\n",
    "_features = create_features([training_edges[99999]], G) #Fill with subset"
   ]
  },
  {
   "cell_type": "markdown",
   "metadata": {
    "colab_type": "text",
    "id": "GlcaF4hvx5l4"
   },
   "source": [
    "# 3. Model training and Prediction"
   ]
  },
  {
   "cell_type": "code",
   "execution_count": null,
   "metadata": {
    "colab": {},
    "colab_type": "code",
    "id": "BamYyUkZx5l5",
    "outputId": "1cf9d83c-3a70-4c1d-f6e5-001e151893fe"
   },
   "outputs": [],
   "source": [
    "#read subset \n",
    "part1_features = read_csv2list('edges_features_part1.csv')\n",
    "part2_features = read_csv2list('edges_features_part2.csv')[1000:]\n",
    "part3_features = read_csv2list('edges_features_part3.csv')\n",
    "\n",
    "print('part1 ' + str(len(part1_features)))\n",
    "print('part2 ' + str(len(part2_features)))\n",
    "print('part3 ' + str(len(part3_features)))\n",
    "\n",
    "total_training_features = part1_features + part2_features + part3_features\n",
    "len(total_training_features)"
   ]
  },
  {
   "cell_type": "code",
   "execution_count": null,
   "metadata": {
    "colab": {},
    "colab_type": "code",
    "id": "Wh29HHaox5l9"
   },
   "outputs": [],
   "source": [
    "save_list2csv('all_features.csv', total_training_features, ['in_common', 'out_common',\n",
    "                                                         'in_JC', 'out_JC','in_SI', 'out_SI',\n",
    "                                                         'in_HP', 'out_HP', 'in_HD', 'out_HD',  \n",
    "                                                         'in_RA', 'out_RA'])"
   ]
  },
  {
   "cell_type": "code",
   "execution_count": null,
   "metadata": {
    "colab": {},
    "colab_type": "code",
    "id": "i8vEkd1EJrww"
   },
   "outputs": [],
   "source": [
    "#Split data for validation\n",
    "from sklearn.model_selection import train_test_split\n",
    "X = total_training_features\n",
    "y = [1]*len(edges_real) + [0]*(len(edges_fake)-1)\n",
    "X_train, X_test, y_train, y_test = train_test_split(X, y, test_size=0.4, random_state=0)"
   ]
  },
  {
   "cell_type": "code",
   "execution_count": null,
   "metadata": {
    "colab": {
     "base_uri": "https://localhost:8080/",
     "height": 52
    },
    "colab_type": "code",
    "id": "xn4LLAD6rlax",
    "outputId": "f8bec7a6-0423-4591-8643-1817d05941c7"
   },
   "outputs": [],
   "source": [
    "# train model\n",
    "from sklearn.linear_model import LogisticRegression\n",
    "from sklearn import svm\n",
    "\n",
    "model_LR = LogisticRegression(random_state=0).fit(X_train, y_train)\n",
    "print ( 'Logistic Regression Acc ' + str(model_LR.score(X_test, y_test)))\n",
    "\n",
    "model_SVM = svm.SVC()\n",
    "model_SVM.fit(X_train, y_train)\n",
    "print ( 'Logistic SVM Acc ' + str(model_SVM.score(X_test, y_test)))"
   ]
  }
 ],
 "metadata": {
  "colab": {
   "collapsed_sections": [],
   "name": "LogReg_first_submission.ipynb",
   "provenance": []
  },
  "kernelspec": {
   "display_name": "Python 3",
   "language": "python",
   "name": "python3"
  },
  "language_info": {
   "codemirror_mode": {
    "name": "ipython",
    "version": 3
   },
   "file_extension": ".py",
   "mimetype": "text/x-python",
   "name": "python",
   "nbconvert_exporter": "python",
   "pygments_lexer": "ipython3",
   "version": "3.7.6"
  }
 },
 "nbformat": 4,
 "nbformat_minor": 1
}
